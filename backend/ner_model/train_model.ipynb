{
  "nbformat": 4,
  "nbformat_minor": 0,
  "metadata": {
    "colab": {
      "name": "Train.ipynb",
      "provenance": []
    },
    "kernelspec": {
      "name": "python3",
      "display_name": "Python 3"
    },
    "language_info": {
      "name": "python"
    },
    "accelerator": "GPU"
  },
  "cells": [
    {
      "cell_type": "code",
      "execution_count": null,
      "metadata": {
        "id": "WC1wb8LFLkT4"
      },
      "outputs": [],
      "source": [
        "!pip install flair"
      ]
    },
    {
      "cell_type": "markdown",
      "source": [
        "Load the dataset and initialize embeddings, label dictionary, and sequence taggger."
      ],
      "metadata": {
        "id": "kCOza9hDOVu8"
      }
    },
    {
      "cell_type": "code",
      "source": [
        "from flair.data import Corpus\n",
        "from flair.datasets import ColumnCorpus\n",
        "from flair.embeddings import WordEmbeddings, FlairEmbeddings, StackedEmbeddings\n",
        "from flair.models import SequenceTagger\n",
        "\n",
        "embedding_types = [\n",
        "    WordEmbeddings('glove'),\n",
        "    FlairEmbeddings('news-forward'),\n",
        "    FlairEmbeddings('news-backward'),\n",
        "]\n",
        "embeddings = StackedEmbeddings(embeddings=embedding_types)\n",
        "\n",
        "columns = {0: 'text', 1: 'ner'}\n",
        "\n",
        "data_folder = 'train/'\n",
        "\n",
        "corpus: Corpus = ColumnCorpus(data_folder, columns)\n",
        "\n",
        "\n",
        "tag_type = 'ner'\n",
        "\n",
        "tag_dictionary = corpus.make_label_dictionary(label_type=tag_type)\n",
        "\n",
        "tagger : SequenceTagger = SequenceTagger(hidden_size=256,\n",
        "                                         embeddings=embeddings,\n",
        "                                         tag_dictionary=tag_dictionary,\n",
        "                                         tag_type=tag_type,\n",
        "                                         use_crf=True)\n",
        "\n"
      ],
      "metadata": {
        "colab": {
          "base_uri": "https://localhost:8080/"
        },
        "id": "qooh0KWYLzR4",
        "outputId": "2701252e-bff0-4bba-ed3a-6f9574abbc09"
      },
      "execution_count": 3,
      "outputs": [
        {
          "output_type": "stream",
          "name": "stdout",
          "text": [
            "2022-06-01 07:50:22,721 Reading data from train\n",
            "2022-06-01 07:50:22,724 Train: train/train.txt\n",
            "2022-06-01 07:50:22,726 Dev: None\n",
            "2022-06-01 07:50:22,729 Test: None\n",
            "2022-06-01 07:50:22,743 Computing label dictionary. Progress:\n"
          ]
        },
        {
          "output_type": "stream",
          "name": "stderr",
          "text": [
            "40it [00:00, 12078.63it/s]"
          ]
        },
        {
          "output_type": "stream",
          "name": "stdout",
          "text": [
            "2022-06-01 07:50:22,752 Dictionary created for label 'ner' with 4 values: JOB (seen 42 times), ORG (seen 32 times), LOC (seen 10 times)\n",
            "2022-06-01 07:50:22,753 SequenceTagger predicts: Dictionary with 13 tags: O, S-JOB, B-JOB, E-JOB, I-JOB, S-ORG, B-ORG, E-ORG, I-ORG, S-LOC, B-LOC, E-LOC, I-LOC\n"
          ]
        },
        {
          "output_type": "stream",
          "name": "stderr",
          "text": [
            "\n"
          ]
        }
      ]
    },
    {
      "cell_type": "markdown",
      "source": [
        "Initalize the trainer and start training."
      ],
      "metadata": {
        "id": "WxnYKZCpOffg"
      }
    },
    {
      "cell_type": "code",
      "source": [
        "from flair.trainers import ModelTrainer\n",
        "\n",
        "trainer : ModelTrainer = ModelTrainer(tagger, corpus)\n",
        "\n",
        "# Adjust settings to optimize training\n",
        "trainer.train('resoures/tagers/example-ner',\n",
        "              learning_rate=0.5,\n",
        "              mini_batch_size=2,\n",
        "              max_epochs=150)\n"
      ],
      "metadata": {
        "id": "mGaeAIEZL439"
      },
      "execution_count": null,
      "outputs": []
    },
    {
      "cell_type": "markdown",
      "source": [
        "Testing the model."
      ],
      "metadata": {
        "id": "aDMV9tWTOnVQ"
      }
    },
    {
      "cell_type": "code",
      "source": [
        "from flair.data import Sentence\n",
        "from flair.models import SequenceTagger\n",
        "\n",
        "model = SequenceTagger.load(\"/content/resoures/tagers/example-ner/best-model.pt\")\n",
        "\n",
        "se = Sentence(\"Senior Software Dev Engineer - Job ID: 996246 | Amazon.jobs\")\n",
        "\n",
        "\n",
        "model.predict(se)\n",
        "\n",
        "for entity in se.get_spans('ner'):\n",
        "    print(entity.text, entity.get_label(\"ner\").value, entity.get_label(\"ner\").score)"
      ],
      "metadata": {
        "colab": {
          "base_uri": "https://localhost:8080/"
        },
        "id": "bG2tkm83L81H",
        "outputId": "635d8971-122c-4cb5-cee4-b2adf57bda03"
      },
      "execution_count": 69,
      "outputs": [
        {
          "output_type": "stream",
          "name": "stdout",
          "text": [
            "2022-06-01 08:20:13,687 loading file /content/resoures/tagers/example-ner/best-model.pt\n",
            "2022-06-01 08:20:14,624 SequenceTagger predicts: Dictionary with 15 tags: O, S-JOB, B-JOB, E-JOB, I-JOB, S-ORG, B-ORG, E-ORG, I-ORG, S-LOC, B-LOC, E-LOC, I-LOC, <START>, <STOP>\n",
            "Senior Software Dev Engineer JOB 0.9553582072257996\n"
          ]
        }
      ]
    }
  ]
}